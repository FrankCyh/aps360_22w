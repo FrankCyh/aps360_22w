{
 "cells": [
  {
   "cell_type": "markdown",
   "metadata": {
    "colab_type": "text",
    "id": "3sxa8YxCbzGL"
   },
   "source": [
    "# Lab 1. PyTorch and ANNs\n",
    "\n",
    "**Deadline**: Mon. Jan 31 at 5:00 PM\n",
    "\n",
    "**Total**: 30 Points\n",
    "\n",
    "**Late Penalty**: Any work that is submitted between 1 hour and 24 hours past the deadline will receive a 20% grade deduction. No other late work is accepted. Quercus submission time will be used, not your local computer time. You can submit your labs as many times as you want before the deadline, so please submit often and early.\n",
    "\n",
    "**Grading TA**: Amr Mohamed <amr.mohamed@mail.utoronto.ca>\n",
    "\n",
    "This lab is based on assignments developed by Jonathan Rose, Harris Chan, Lisa Zhang, and Sinisa Colic.\n",
    "\n",
    "This lab is a warm up to get you used to the PyTorch programming environment used\n",
    "in the course, and also to help you review and renew your knowledge\n",
    "of Python and relevant Python libraries.\n",
    "The lab must be done individually. Please recall that the\n",
    "University of Toronto plagarism rules apply.\n",
    "\n",
    "By the end of this lab, you should be able to:\n",
    "\n",
    "1. Be able to perform basic PyTorch tensor operations.\n",
    "2. Be able to load data into PyTorch\n",
    "3. Be able to configure an Artificial Neural Network (ANN) using PyTorch\n",
    "4. Be able to train ANNs using PyTorch\n",
    "5. Be able to evaluate different ANN configuations\n",
    "\n",
    "You will need to use numpy and PyTorch documentations for this assignment:\n",
    "\n",
    "* https://docs.scipy.org/doc/numpy/reference/\n",
    "* https://pytorch.org/docs/stable/torch.html\n",
    "\n",
    "You can also reference Python API documentations freely.\n",
    "\n",
    "### What to submit\n",
    "\n",
    "Submit a PDF file containing all your code, outputs, and write-up\n",
    "from parts 1-5. You can produce a PDF of your Google Colab file by\n",
    "going to `File -> Print` and then save as PDF. The Colab instructions\n",
    "has more information.\n",
    "\n",
    "**Do not submit any other files produced by your code.**\n",
    "\n",
    "Include a link to your colab file in your submission.\n",
    "\n",
    "Please use Google Colab to complete this assignment. If you want to use Jupyter Notebook, please complete the assignment and upload your Jupyter Notebook file to Google Colab for submission. \n",
    "\n",
    "**Adjust the scaling to ensure that the text is not cutoff at the margins.**\n",
    "## Colab Link\n",
    "\n",
    "Submit make sure to include a link to your colab file here\n",
    "\n",
    "Colab Link: https://colab.research.google.com/drive/1zxlXYznwJh25RR1V64gWQMN3PJ3DmuCb#scrollTo=mQJm7FcTXWCS"
   ]
  },
  {
   "cell_type": "markdown",
   "metadata": {
    "colab_type": "text",
    "id": "mALD3Y2bbzGT"
   },
   "source": [
    "## Part 1. Python Basics [3 pt]\n",
    "\n",
    "The purpose of this section is to get you used to the \n",
    "basics of Python, including working with functions, numbers,\n",
    "lists, and strings.\n",
    "\n",
    "Note that we **will** be checking your code for clarity and efficiency.\n",
    "\n",
    "If you have trouble with this part of the assignment, please review http://cs231n.github.io/python-numpy-tutorial/"
   ]
  },
  {
   "cell_type": "markdown",
   "metadata": {
    "colab_type": "text",
    "id": "7gimRTE9bzGa"
   },
   "source": [
    "### Part (a) -- 1pt\n",
    "\n",
    "Write a function `sum_of_cubes` that computes the sum of cubes up to `n`. If the input to `sum_of_cubes` invalid (e.g. negative or non-integer `n`), the function should print out `\"Invalid input\"` and return `-1`."
   ]
  },
  {
   "cell_type": "code",
   "execution_count": 3,
   "metadata": {
    "colab": {},
    "colab_type": "code",
    "collapsed": true,
    "id": "fifG_Wv6bzGf",
    "jupyter": {
     "outputs_hidden": true
    }
   },
   "outputs": [
    {
     "name": "stdout",
     "output_type": "stream",
     "text": [
      "Invalid input\n"
     ]
    },
    {
     "data": {
      "text/plain": [
       "36"
      ]
     },
     "execution_count": 3,
     "metadata": {},
     "output_type": "execute_result"
    }
   ],
   "source": [
    "\"\"\"\n",
    "Return the sum (1^3 + 2^3 + 3^3 + ... + n^3)\n",
    "Precondition: n > 0, type(n) == int\n",
    ">>> sum_of_cubes(3)\n",
    "36\n",
    ">>> sum_of_cubes(1)\n",
    "1\n",
    "\"\"\"\n",
    "\n",
    "def sum_of_cubes(n):\n",
    "    if n < 0 or type(n) is not int:\n",
    "        print(\"Invalid input\")\n",
    "        return -1\n",
    "    sum = 0\n",
    "    for i in range(0, n+1):\n",
    "        sum += i**3\n",
    "    return sum\n",
    "\n",
    "# Test case:\n",
    "sum_of_cubes(-1)\n",
    "sum_of_cubes(3)\n"
   ]
  },
  {
   "cell_type": "markdown",
   "metadata": {
    "colab_type": "text",
    "id": "bOxDP8AlbzG2"
   },
   "source": [
    "### Part (b) -- 1pt\n",
    "\n",
    "Write a function `word_lengths` that takes a sentence (string), computes the length of each word in that sentence, and returns the length of each word in a list. You can\n",
    "assume that words are always separated by a space character `\" \"`.\n",
    "\n",
    "Hint: recall the `str.split` function in Python.\n",
    "If you arenot sure how this function works, try\n",
    "typing `help(str.split)` into a Python shell, or check out https://docs.python.org/3.6/library/stdtypes.html#str.split"
   ]
  },
  {
   "cell_type": "code",
   "execution_count": 4,
   "metadata": {
    "colab": {},
    "colab_type": "code",
    "collapsed": true,
    "id": "H84jlGrVbzG5",
    "jupyter": {
     "outputs_hidden": true
    }
   },
   "outputs": [],
   "source": [
    "# help(str.split)\n"
   ]
  },
  {
   "cell_type": "code",
   "execution_count": 5,
   "metadata": {},
   "outputs": [
    {
     "name": "stdout",
     "output_type": "stream",
     "text": [
      "[7, 2, 7]\n",
      "[7, 8, 2, 2, 4]\n"
     ]
    }
   ],
   "source": [
    "# Description: takes a sentence (string), computes the length of each word in that sentence, and returns the length of each word in a list\n",
    "# >>> word_lengths(\"welcome to APS360!\")\n",
    "# [7, 2, 7]\n",
    "# >>> word_lengths(\"machine learning is so cool\")\n",
    "# [7, 8, 2, 2, 4]\n",
    "\n",
    "def word_lengths(sentence):\n",
    "    words = sentence.split(sep=' ', maxsplit=-1)  # delimiter is ' ' and maxsplit is unlimited\n",
    "    word_len_list = []\n",
    "\n",
    "    for i in range(len(words)):\n",
    "        word_len_list.append(len(words[i]))\n",
    "\n",
    "    return word_len_list\n",
    "\n",
    "\n",
    "print(word_lengths(\"welcome to APS360!\"))\n",
    "print(word_lengths(\"machine learning is so cool\"))\n"
   ]
  },
  {
   "cell_type": "markdown",
   "metadata": {
    "colab_type": "text",
    "id": "iCsnzu4NIGuD"
   },
   "source": [
    "### Part (c) -- 1pt\n",
    "\n",
    "Write a function `all_same_length` that takes a sentence (string),\n",
    "and checks whether every word in the string is the same length.\n",
    "You should call the function `word_lengths` in the body\n",
    "of this new function.\n"
   ]
  },
  {
   "cell_type": "code",
   "execution_count": 6,
   "metadata": {
    "colab": {},
    "colab_type": "code",
    "collapsed": true,
    "id": "Z-7qytZEIGuE",
    "jupyter": {
     "outputs_hidden": true
    }
   },
   "outputs": [
    {
     "name": "stdout",
     "output_type": "stream",
     "text": [
      "False\n",
      "True\n"
     ]
    }
   ],
   "source": [
    "# Return True if every word in sentence has the same\n",
    "# length, and False otherwise.\n",
    "# \n",
    "# >>> all_same_length(\"all same length\")\n",
    "# False\n",
    "# >>> all_same_length(\"hello world\")\n",
    "# True\n",
    "\n",
    "def all_same_length(sentence):\n",
    "    words = sentence.split(sep=' ', maxsplit=-1)\n",
    "    firstWordLen = len(words[0])\n",
    "\n",
    "    for i in range(1, len(words)):\n",
    "        if len(words[i]) != firstWordLen:\n",
    "            return False\n",
    "\n",
    "    return True\n",
    "\n",
    "print(all_same_length(\"all same length\"))\n",
    "print(all_same_length(\"hello world\"))"
   ]
  },
  {
   "cell_type": "markdown",
   "metadata": {
    "colab_type": "text",
    "id": "yUh1MySTbzHT"
   },
   "source": [
    "## Part 2. NumPy Exercises [5 pt]\n",
    "\n",
    "In this part of the assignment, you'll be manipulating arrays \n",
    "usign NumPy. Normally, we use the shorter name `np` to represent\n",
    "the package `numpy`."
   ]
  },
  {
   "cell_type": "code",
   "execution_count": 7,
   "metadata": {
    "colab": {},
    "colab_type": "code",
    "collapsed": true,
    "id": "H2opcxqMbzHW",
    "jupyter": {
     "outputs_hidden": true
    }
   },
   "outputs": [],
   "source": [
    "import numpy as np"
   ]
  },
  {
   "cell_type": "markdown",
   "metadata": {
    "colab_type": "text",
    "id": "Ek29jdqPbzHf"
   },
   "source": [
    "### Part (a) -- 1pt\n",
    "\n",
    "The below variables `matrix` and `vector` are numpy arrays. Explain what you think `<NumpyArray>.size` and `<NumpyArray>.shape` represent."
   ]
  },
  {
   "cell_type": "code",
   "execution_count": 8,
   "metadata": {
    "colab": {},
    "colab_type": "code",
    "collapsed": true,
    "id": "Z6eniOV2bzHi",
    "jupyter": {
     "outputs_hidden": true
    }
   },
   "outputs": [],
   "source": [
    "matrix = np.array([[1., 2., 3., 0.5],\n",
    "                   [4., 5., 0., 0.],\n",
    "                   [-1., -2., 1., 1.]])\n",
    "vector = np.array([2., 0., 1., -2.])"
   ]
  },
  {
   "cell_type": "code",
   "execution_count": 9,
   "metadata": {
    "colab": {},
    "colab_type": "code",
    "collapsed": true,
    "id": "JMIy15dKIGuP",
    "jupyter": {
     "outputs_hidden": true
    }
   },
   "outputs": [
    {
     "data": {
      "text/plain": [
       "12"
      ]
     },
     "execution_count": 9,
     "metadata": {},
     "output_type": "execute_result"
    }
   ],
   "source": [
    "matrix.size\n",
    "# matrix.size represents the number of floats in the two dimensional array = 3 * 4 = 12"
   ]
  },
  {
   "cell_type": "code",
   "execution_count": 10,
   "metadata": {
    "colab": {},
    "colab_type": "code",
    "collapsed": true,
    "id": "QoHaPzDNbzHo",
    "jupyter": {
     "outputs_hidden": true
    },
    "scrolled": true
   },
   "outputs": [
    {
     "data": {
      "text/plain": [
       "(3, 4)"
      ]
     },
     "execution_count": 10,
     "metadata": {},
     "output_type": "execute_result"
    }
   ],
   "source": [
    "matrix.shape\n",
    "# return the dimension"
   ]
  },
  {
   "cell_type": "code",
   "execution_count": 11,
   "metadata": {
    "colab": {},
    "colab_type": "code",
    "collapsed": true,
    "id": "dErt6w25bzHu",
    "jupyter": {
     "outputs_hidden": true
    }
   },
   "outputs": [
    {
     "data": {
      "text/plain": [
       "4"
      ]
     },
     "execution_count": 11,
     "metadata": {},
     "output_type": "execute_result"
    }
   ],
   "source": [
    "vector.size\n",
    "# vector.size represents the number of floats in the vector"
   ]
  },
  {
   "cell_type": "code",
   "execution_count": 12,
   "metadata": {
    "colab": {},
    "colab_type": "code",
    "collapsed": true,
    "id": "TXhHCchIIGua",
    "jupyter": {
     "outputs_hidden": true
    }
   },
   "outputs": [
    {
     "data": {
      "text/plain": [
       "(4,)"
      ]
     },
     "execution_count": 12,
     "metadata": {},
     "output_type": "execute_result"
    }
   ],
   "source": [
    "vector.shape\n",
    "# return the dimension"
   ]
  },
  {
   "cell_type": "markdown",
   "metadata": {
    "colab_type": "text",
    "id": "9PQ-pRIlbzH8"
   },
   "source": [
    "### Part (b) -- 1pt\n",
    "\n",
    "Perform matrix multiplication `output = matrix x vector` by using\n",
    "for loops to iterate through the columns and rows.\n",
    "Do not use any builtin NumPy functions.\n",
    "Cast your output into a NumPy array, if it isn't one already.\n",
    "\n",
    "Hint: be mindful of the dimension of output"
   ]
  },
  {
   "cell_type": "code",
   "execution_count": 13,
   "metadata": {
    "colab": {},
    "colab_type": "code",
    "collapsed": true,
    "id": "SXnZFii2bzH-",
    "jupyter": {
     "outputs_hidden": true
    }
   },
   "outputs": [],
   "source": [
    "output = None\n",
    "(m, n) = matrix.shape\n",
    "(k,) = vector.shape\n",
    "if(k != n):\n",
    "    print(\"Dimension incorrect, can't perform matrix-vector multiplication\")\n",
    "\n",
    "newVec = []\n",
    "\n",
    "for i in range(m):\n",
    "    tmp = 0\n",
    "    for j in range(n):\n",
    "        tmp += matrix[i, j] * vector[j]\n",
    "    newVec.append(tmp)\n",
    "output = newVec\n"
   ]
  },
  {
   "cell_type": "code",
   "execution_count": 14,
   "metadata": {
    "colab": {},
    "colab_type": "code",
    "collapsed": true,
    "id": "BiIVqVvvbzII",
    "jupyter": {
     "outputs_hidden": true
    }
   },
   "outputs": [
    {
     "data": {
      "text/plain": [
       "[4.0, 8.0, -3.0]"
      ]
     },
     "execution_count": 14,
     "metadata": {},
     "output_type": "execute_result"
    }
   ],
   "source": [
    "output"
   ]
  },
  {
   "cell_type": "markdown",
   "metadata": {
    "colab_type": "text",
    "id": "O5UhbilNbzIP"
   },
   "source": [
    "### Part (c) -- 1pt\n",
    "\n",
    "Perform matrix multiplication `output2 = matrix x vector` by using\n",
    "the function `numpy.dot`.\n",
    "\n",
    "We will never actually write code as in\n",
    "part(c), not only because `numpy.dot` is more concise and easier to read/write, but also performance-wise `numpy.dot` is much faster (it is written in C and highly optimized).\n",
    "In general, we will avoid for loops in our code."
   ]
  },
  {
   "cell_type": "code",
   "execution_count": 15,
   "metadata": {
    "colab": {},
    "colab_type": "code",
    "collapsed": true,
    "id": "e8dLVrMEbzIR",
    "jupyter": {
     "outputs_hidden": true
    }
   },
   "outputs": [],
   "source": [
    "output2 = None\n",
    "newVec2 = np.dot(matrix, vector)\n",
    "output2 = newVec2"
   ]
  },
  {
   "cell_type": "code",
   "execution_count": 16,
   "metadata": {
    "colab": {},
    "colab_type": "code",
    "collapsed": true,
    "id": "X1LqY1eKbzIV",
    "jupyter": {
     "outputs_hidden": true
    }
   },
   "outputs": [
    {
     "data": {
      "text/plain": [
       "array([ 4.,  8., -3.])"
      ]
     },
     "execution_count": 16,
     "metadata": {},
     "output_type": "execute_result"
    }
   ],
   "source": [
    "output2"
   ]
  },
  {
   "cell_type": "markdown",
   "metadata": {
    "colab_type": "text",
    "id": "77XioX6vbzIb"
   },
   "source": [
    "### Part (d) -- 1pt\n",
    "\n",
    "As a way to test for consistency, show that the two outputs match."
   ]
  },
  {
   "cell_type": "code",
   "execution_count": 17,
   "metadata": {
    "colab": {},
    "colab_type": "code",
    "collapsed": true,
    "id": "1Vc-Nvf0bzIc",
    "jupyter": {
     "outputs_hidden": true
    }
   },
   "outputs": [
    {
     "data": {
      "text/plain": [
       "array([ True,  True,  True])"
      ]
     },
     "execution_count": 17,
     "metadata": {},
     "output_type": "execute_result"
    }
   ],
   "source": [
    "output == output2"
   ]
  },
  {
   "cell_type": "markdown",
   "metadata": {
    "colab_type": "text",
    "id": "wjEGmk8oIGur"
   },
   "source": [
    "### Part (e) -- 1pt\n",
    "\n",
    "Show that using `np.dot` is faster than using your code from part (c).\n",
    "\n",
    "You may find the below code snippit helpful:"
   ]
  },
  {
   "cell_type": "code",
   "execution_count": 18,
   "metadata": {
    "colab": {},
    "colab_type": "code",
    "collapsed": true,
    "id": "XlnE0XO8IGur",
    "jupyter": {
     "outputs_hidden": true
    }
   },
   "outputs": [
    {
     "name": "stdout",
     "output_type": "stream",
     "text": [
      "time for python 0.00010180473327636719\n",
      "time for python 6.508827209472656e-05\n"
     ]
    }
   ],
   "source": [
    "import time\n",
    "\n",
    "# record the time before running code\n",
    "start_time = time.time()\n",
    "\n",
    "# place code to run here\n",
    "for i in range(m):\n",
    "    tmp = 0\n",
    "    for j in range(n):\n",
    "        tmp += matrix[i, j] * vector[j]\n",
    "    newVec.append(tmp)\n",
    "    \n",
    "# record the time after the code is run\n",
    "end_time = time.time()\n",
    "\n",
    "# compute the difference\n",
    "diff1 = end_time - start_time\n",
    "print(\"time for python\", diff1)\n",
    "\n",
    "start_time2 = time.time()\n",
    "\n",
    "# place code to run here\n",
    "newVec2 = np.dot(matrix, vector)\n",
    "    \n",
    "# record the time after the code is run\n",
    "end_time2 = time.time()\n",
    "\n",
    "# compute the difference\n",
    "diff2 = end_time2 - start_time2\n",
    "print(\"time for python\", diff2)\n"
   ]
  },
  {
   "cell_type": "markdown",
   "metadata": {
    "colab_type": "text",
    "id": "LbKJjoHHbzI4"
   },
   "source": [
    "## Part 3. Images [6 pt]\n",
    "\n",
    "A picture or image can be represented as a NumPy array of “pixels”, \n",
    "with dimensions H × W × C, where H is the height of the image, W is the width of the image,\n",
    "and C is the number of colour channels. Typically we will use an image with channels that give the the Red, Green, and Blue “level” of each pixel, which is referred to with the short form RGB.\n",
    "\n",
    "You will write Python code to load an image, and perform several array manipulations to the image and visualize their effects. "
   ]
  },
  {
   "cell_type": "code",
   "execution_count": 19,
   "metadata": {
    "colab": {},
    "colab_type": "code",
    "collapsed": true,
    "id": "FRGQKpEgbzI4",
    "jupyter": {
     "outputs_hidden": true
    }
   },
   "outputs": [],
   "source": [
    "import matplotlib.pyplot as plt"
   ]
  },
  {
   "cell_type": "markdown",
   "metadata": {
    "colab_type": "text",
    "id": "p1D5mtCubzI6"
   },
   "source": [
    "### Part (a) -- 1 pt\n",
    "\n",
    "This is a photograph of a dog whose name is Mochi.\n",
    "\n",
    "![alt text](https://drive.google.com/uc?export=view&id=1oaLVR2hr1_qzpKQ47i9rVUIklwbDcews)\n",
    "\n",
    "Load the image from its url (https://drive.google.com/uc?export=view&id=1oaLVR2hr1_qzpKQ47i9rVUIklwbDcews) into the variable `img` using the `plt.imread` function.\n",
    "\n",
    "Hint: You can enter the URL directly into the `plt.imread` function as a Python string."
   ]
  },
  {
   "cell_type": "code",
   "execution_count": 20,
   "metadata": {
    "colab": {},
    "colab_type": "code",
    "collapsed": true,
    "id": "RB8lf73vbzI7",
    "jupyter": {
     "outputs_hidden": true
    }
   },
   "outputs": [
    {
     "name": "stderr",
     "output_type": "stream",
     "text": [
      "/var/folders/tn/gxktm79j0klgcyy6t4_rb0lc0000gn/T/ipykernel_2819/2936844930.py:2: MatplotlibDeprecationWarning: Directly reading images from URLs is deprecated since 3.4 and will no longer be supported two minor releases later. Please open the URL for reading and pass the result to Pillow, e.g. with ``PIL.Image.open(urllib.request.urlopen(url))``.\n",
      "  img = plt.imread(\"https://drive.google.com/uc?export=view&id=1oaLVR2hr1_qzpKQ47i9rVUIklwbDcews\")\n"
     ]
    }
   ],
   "source": [
    "img = None\n",
    "img = plt.imread(\"https://drive.google.com/uc?export=view&id=1oaLVR2hr1_qzpKQ47i9rVUIklwbDcews\")"
   ]
  },
  {
   "cell_type": "markdown",
   "metadata": {
    "colab_type": "text",
    "id": "mNli5OsbbzI9"
   },
   "source": [
    "### Part (b) -- 1pt\n",
    "\n",
    "Use the function `plt.imshow` to visualize `img`. \n",
    "\n",
    "This function will also show the coordinate system used to identify pixels.\n",
    "The origin is at the top left corner, and the first dimension indicates the Y (row) direction, \n",
    "and the second dimension indicates the X (column) dimension."
   ]
  },
  {
   "cell_type": "code",
   "execution_count": 21,
   "metadata": {
    "colab": {},
    "colab_type": "code",
    "collapsed": true,
    "id": "lEeHKc_abzI9",
    "jupyter": {
     "outputs_hidden": true
    }
   },
   "outputs": [
    {
     "data": {
      "text/plain": [
       "<matplotlib.image.AxesImage at 0x7fb2b8b84fa0>"
      ]
     },
     "execution_count": 21,
     "metadata": {},
     "output_type": "execute_result"
    },
    {
     "data": {
      "image/png": "[encoded data removed]",
      "text/plain": [
       "<Figure size 432x288 with 1 Axes>"
      ]
     },
     "metadata": {
      "needs_background": "light"
     },
     "output_type": "display_data"
    }
   ],
   "source": [
    "plt.imshow(img)"
   ]
  },
  {
   "cell_type": "markdown",
   "metadata": {
    "colab_type": "text",
    "id": "pB-Hx-OFbzJC"
   },
   "source": [
    "### Part (c) -- 2pt\n",
    "\n",
    "Modify the image by adding a constant value of 0.25 to each pixel in the `img` and\n",
    "store the result in the variable `img_add`. Note that, since the range for the pixels \n",
    "needs to be between [0, 1], you will also need to clip img_add to be in the range [0, 1] \n",
    "using `numpy.clip`. Clipping sets any value that is outside of the desired range to the \n",
    "closest endpoint. Display the image using `plt.imshow`."
   ]
  },
  {
   "cell_type": "code",
   "execution_count": 22,
   "metadata": {
    "colab": {},
    "colab_type": "code",
    "collapsed": true,
    "id": "GWBhZay2bzJC",
    "jupyter": {
     "outputs_hidden": true
    }
   },
   "outputs": [
    {
     "name": "stderr",
     "output_type": "stream",
     "text": [
      "Clipping input data to the valid range for imshow with RGB data ([0..1] for floats or [0..255] for integers).\n"
     ]
    },
    {
     "data": {
      "text/plain": [
       "<matplotlib.image.AxesImage at 0x7fb2d8cf5790>"
      ]
     },
     "execution_count": 22,
     "metadata": {},
     "output_type": "execute_result"
    },
    {
     "data": {
      "image/png": "[encoded data removed]",
      "text/plain": [
       "<Figure size 432x288 with 1 Axes>"
      ]
     },
     "metadata": {
      "needs_background": "light"
     },
     "output_type": "display_data"
    }
   ],
   "source": [
    "img_add = None\n",
    "img2 = np.clip(img, 0, 1)\n",
    "img_add = 0.25 + img2\n",
    "plt.imshow(img_add)\n"
   ]
  },
  {
   "cell_type": "markdown",
   "metadata": {
    "colab_type": "text",
    "id": "DeinKXBCbzJI"
   },
   "source": [
    "### Part (d) -- 2pt\n",
    "\n",
    "Crop the **original** image (`img` variable) to a 130 x 150 image including Mochi's face. Discard the alpha colour channel (i.e. resulting `img_cropped` should **only have RGB channels**)\n",
    "\n",
    "Display the image."
   ]
  },
  {
   "cell_type": "code",
   "execution_count": 23,
   "metadata": {},
   "outputs": [
    {
     "data": {
      "text/plain": [
       "<matplotlib.image.AxesImage at 0x7fb2c931b550>"
      ]
     },
     "execution_count": 23,
     "metadata": {},
     "output_type": "execute_result"
    },
    {
     "data": {
      "image/png": "[encoded data removed]",
      "text/plain": [
       "<Figure size 432x288 with 1 Axes>"
      ]
     },
     "metadata": {
      "needs_background": "light"
     },
     "output_type": "display_data"
    }
   ],
   "source": [
    "image_shape = img.shape  # (350, 210, 4)\n",
    "img_cropped = img[20:120, 40:150, 0:3]  # Defines the dimension \n",
    "plt.imshow(img_cropped)\n"
   ]
  },
  {
   "cell_type": "markdown",
   "metadata": {
    "colab_type": "text",
    "id": "FmfE9CQdIGva"
   },
   "source": [
    "## Part 4. Basics of PyTorch [6 pt]\n",
    "\n",
    "PyTorch is a Python-based neural networks package. Along with tensorflow, PyTorch is currently one of the most popular machine learning libraries.\n",
    "\n",
    "PyTorch, at its core, is similar to Numpy in a sense that they both \n",
    "try to make it easier to write codes for scientific computing\n",
    "achieve improved performance over vanilla Python by leveraging highly optimized C back-end.\n",
    "However, compare to Numpy, PyTorch offers much better GPU support and provides many high-level features for machine learning. Technically, Numpy can be used to perform almost every thing PyTorch does. However, Numpy would be a lot slower than PyTorch, especially with CUDA GPU, and it would take more effort to write machine learning related code compared to using PyTorch."
   ]
  },
  {
   "cell_type": "code",
   "execution_count": 24,
   "metadata": {
    "colab": {},
    "colab_type": "code",
    "collapsed": true,
    "id": "ppRPK-X2IGvb",
    "jupyter": {
     "outputs_hidden": true
    }
   },
   "outputs": [],
   "source": [
    "import torch"
   ]
  },
  {
   "cell_type": "markdown",
   "metadata": {
    "colab_type": "text",
    "id": "DXrczIrSIGvf"
   },
   "source": [
    "### Part (a) -- 1 pt\n",
    "\n",
    "Use the function `torch.from_numpy` to convert the numpy array `img_cropped` into\n",
    "a PyTorch tensor. Save the result in a variable called `img_torch`."
   ]
  },
  {
   "cell_type": "code",
   "execution_count": 25,
   "metadata": {
    "colab": {},
    "colab_type": "code",
    "collapsed": true,
    "id": "j9rYyf4gIGvj",
    "jupyter": {
     "outputs_hidden": true
    }
   },
   "outputs": [
    {
     "data": {
      "text/plain": [
       "tensor([[[0.4157, 0.1725, 0.1216],\n",
       "         [0.4118, 0.1725, 0.0510],\n",
       "         [0.4745, 0.2392, 0.0275],\n",
       "         ...,\n",
       "         [0.5882, 0.3490, 0.1647],\n",
       "         [0.6157, 0.3765, 0.1922],\n",
       "         [0.6157, 0.3882, 0.2000]],\n",
       "\n",
       "        [[0.4275, 0.1843, 0.1333],\n",
       "         [0.4235, 0.1843, 0.0627],\n",
       "         [0.4863, 0.2510, 0.0392],\n",
       "         ...,\n",
       "         [0.5843, 0.3451, 0.1608],\n",
       "         [0.6118, 0.3725, 0.1882],\n",
       "         [0.6157, 0.3882, 0.2000]],\n",
       "\n",
       "        [[0.4314, 0.1882, 0.1373],\n",
       "         [0.4353, 0.1961, 0.0745],\n",
       "         [0.4980, 0.2627, 0.0510],\n",
       "         ...,\n",
       "         [0.5804, 0.3451, 0.1490],\n",
       "         [0.6039, 0.3686, 0.1725],\n",
       "         [0.6118, 0.3843, 0.1882]],\n",
       "\n",
       "        ...,\n",
       "\n",
       "        [[0.4510, 0.2392, 0.1059],\n",
       "         [0.4157, 0.1961, 0.0510],\n",
       "         [0.4549, 0.2275, 0.0706],\n",
       "         ...,\n",
       "         [0.5020, 0.4078, 0.3059],\n",
       "         [0.4314, 0.3294, 0.2314],\n",
       "         [0.4314, 0.3216, 0.2275]],\n",
       "\n",
       "        [[0.4549, 0.2431, 0.1098],\n",
       "         [0.4118, 0.1922, 0.0471],\n",
       "         [0.4392, 0.2118, 0.0549],\n",
       "         ...,\n",
       "         [0.5137, 0.4196, 0.3176],\n",
       "         [0.4824, 0.3804, 0.2824],\n",
       "         [0.4118, 0.3020, 0.2078]],\n",
       "\n",
       "        [[0.4235, 0.2118, 0.0784],\n",
       "         [0.3961, 0.1765, 0.0314],\n",
       "         [0.4314, 0.2039, 0.0471],\n",
       "         ...,\n",
       "         [0.4549, 0.3725, 0.2667],\n",
       "         [0.5137, 0.4196, 0.3176],\n",
       "         [0.4510, 0.3490, 0.2510]]])"
      ]
     },
     "execution_count": 25,
     "metadata": {},
     "output_type": "execute_result"
    }
   ],
   "source": [
    "img_torch = None\n",
    "img_torch = torch.from_numpy(img_cropped)\n",
    "img_torch\n"
   ]
  },
  {
   "cell_type": "markdown",
   "metadata": {
    "colab_type": "text",
    "id": "zrpPeRKtIGvn"
   },
   "source": [
    "### Part (b) -- 1pt\n",
    "\n",
    "Use the method `<Tensor>.shape` to find the shape (dimension and size) of `img_torch`."
   ]
  },
  {
   "cell_type": "code",
   "execution_count": 26,
   "metadata": {
    "colab": {},
    "colab_type": "code",
    "collapsed": true,
    "id": "ws7G_aaxIGvn",
    "jupyter": {
     "outputs_hidden": true
    }
   },
   "outputs": [
    {
     "data": {
      "text/plain": [
       "torch.Size([100, 110, 3])"
      ]
     },
     "execution_count": 26,
     "metadata": {},
     "output_type": "execute_result"
    }
   ],
   "source": [
    "img_torch.shape"
   ]
  },
  {
   "cell_type": "markdown",
   "metadata": {
    "colab_type": "text",
    "id": "uorV8t1pIGvp"
   },
   "source": [
    "### Part (c) -- 1pt\n",
    "\n",
    "How many floating-point numbers are stored in the tensor `img_torch`?"
   ]
  },
  {
   "cell_type": "code",
   "execution_count": 27,
   "metadata": {
    "colab": {},
    "colab_type": "code",
    "collapsed": true,
    "id": "sucaE_VCIGvq",
    "jupyter": {
     "outputs_hidden": true
    }
   },
   "outputs": [
    {
     "name": "stdout",
     "output_type": "stream",
     "text": [
      "There are 33000 floating point elements\n"
     ]
    }
   ],
   "source": [
    "num_fp = img_torch.shape[0] * img_torch.shape[1] * img_torch.shape[2]\n",
    "print(\"There are %d floating point elements\" % num_fp)"
   ]
  },
  {
   "cell_type": "markdown",
   "metadata": {
    "colab_type": "text",
    "id": "sIcXGdg5IGvu"
   },
   "source": [
    "### Part (d) -- 1 pt\n",
    "\n",
    "What does the code `img_torch.transpose(0,2)` do? What does the expression return? \n",
    "Is the original variable `img_torch` updated? Explain."
   ]
  },
  {
   "cell_type": "code",
   "execution_count": 28,
   "metadata": {
    "colab": {},
    "colab_type": "code",
    "collapsed": true,
    "id": "omOJqIhEIGvu",
    "jupyter": {
     "outputs_hidden": true
    }
   },
   "outputs": [
    {
     "data": {
      "text/plain": [
       "torch.Size([3, 110, 100])"
      ]
     },
     "execution_count": 28,
     "metadata": {},
     "output_type": "execute_result"
    }
   ],
   "source": [
    "img_torch.transpose(0, 2)\n",
    "img_torch.shape\n",
    "img_torch.transpose(0, 2).shape\n",
    "# img_torch.transpose(0,2) change the shape from [100, 110, 3] to [100, 110, 3]\n"
   ]
  },
  {
   "cell_type": "markdown",
   "metadata": {
    "colab_type": "text",
    "id": "lHrzC0EqIGvx"
   },
   "source": [
    "### Part (e) -- 1 pt\n",
    "\n",
    "What does the code `img_torch.unsqueeze(0)` do? What does the expression return? \n",
    "Is the original variable `img_torch` updated? Explain."
   ]
  },
  {
   "cell_type": "code",
   "execution_count": 29,
   "metadata": {
    "colab": {},
    "colab_type": "code",
    "collapsed": true,
    "id": "ZFePj7E5IGvz",
    "jupyter": {
     "outputs_hidden": true
    }
   },
   "outputs": [
    {
     "name": "stdout",
     "output_type": "stream",
     "text": [
      "torch.Size([1, 100, 110, 3])\n"
     ]
    }
   ],
   "source": [
    "img_unsqueeze = img_torch.unsqueeze(0)\n",
    "print(img_unsqueeze.shape) \n",
    "\n",
    "# The unsqueeze function insert a dimension of size 1 in the 0 position, and returns a new matrix with shape [1,130,150,3] \n",
    "# The original variable img_torch is not updated\n"
   ]
  },
  {
   "cell_type": "markdown",
   "metadata": {
    "colab_type": "text",
    "id": "re16jTB9IGv0"
   },
   "source": [
    "### Part (f) -- 1 pt\n",
    "\n",
    "Find the maximum value of `img_torch` along each colour channel? Your output should be a one-dimensional\n",
    "PyTorch tensor with exactly three values.\n",
    "\n",
    "Hint: lookup the function `torch.max`."
   ]
  },
  {
   "cell_type": "code",
   "execution_count": 30,
   "metadata": {},
   "outputs": [
    {
     "data": {
      "text/plain": [
       "tensor([0.8941, 0.7882, 0.6745])"
      ]
     },
     "execution_count": 30,
     "metadata": {},
     "output_type": "execute_result"
    }
   ],
   "source": [
    "# There are 3 dimensions, length, width, and color\n",
    "max_1st_dim = torch.max(img_torch, 0) # max over length \n",
    "max_tensor = torch.max(max_1st_dim[0], 0) # max over length and width\n",
    "max_tensor.values"
   ]
  },
  {
   "cell_type": "markdown",
   "metadata": {
    "colab_type": "text",
    "id": "3hhA2sX0au0D"
   },
   "source": [
    "## Part 5. Training an ANN [10 pt]\n",
    "\n",
    "The sample code provided below is a 2-layer ANN trained on the MNIST dataset to identify digits less than 3 or greater than and equal to 3. Modify the code by changing any of the following and observe how the accuracy and error are affected:\n",
    "\n",
    "- number of training iterations\n",
    "- number of hidden units\n",
    "- numbers of layers\n",
    "- types of activation functions\n",
    "- learning rate\n",
    "\n"
   ]
  },
  {
   "cell_type": "code",
   "execution_count": 31,
   "metadata": {
    "colab": {},
    "colab_type": "code",
    "collapsed": true,
    "id": "GGtthiz1tDh5",
    "jupyter": {
     "outputs_hidden": true
    }
   },
   "outputs": [
    {
     "name": "stdout",
     "output_type": "stream",
     "text": [
      "Training Error Rate: 0.036\n",
      "Training Accuracy: 0.964\n",
      "Test Error Rate: 0.079\n",
      "Test Accuracy: 0.921\n"
     ]
    }
   ],
   "source": [
    "import torch\n",
    "import torch.nn as nn #* class nn.Linear defines a fully-connected layer\n",
    "import torch.nn.functional as F\n",
    "from torchvision import datasets, transforms\n",
    "import matplotlib.pyplot as plt  # for plotting\n",
    "import torch.optim as optim\n",
    "\n",
    "torch.manual_seed(1)  # set the random seed\n",
    "#* important for reproducing results\n",
    "\n",
    "# define a 2-layer artificial neural network\n",
    "\n",
    "## ANN Architecture: define a 2-layer neural network\n",
    "\n",
    "\n",
    "class Pigeon(nn.Module):\n",
    "    def __init__(self):\n",
    "        super(Pigeon, self).__init__() \n",
    "        self.layer1 = nn.Linear(28 * 28, 30)  # $ number of hidden unit \n",
    "        \n",
    "        # $ number of layers added here\n",
    "        self.layer2 = nn.Linear(30, 1)\n",
    "\n",
    "    def forward(self, img): #* forward() method defines how to make a prediction\n",
    "        flattened = img.view(-1, 28 * 28)  # -1 here means auto inference\n",
    "        activation1 = self.layer1(flattened)\n",
    "        # $ types of activation functions: relu, leak_relu, prelu, sigmoid\n",
    "        activation1 = F.relu(activation1)\n",
    "        activation2 = self.layer2(activation1)\n",
    "        return activation2\n",
    "    #* modern framework for deep learning automatically implement back propagation\n",
    "\n",
    "\n",
    "pigeon = Pigeon()\n",
    "\n",
    "\n",
    "## PyTorch: Load Data\n",
    "mnist_data = datasets.MNIST('data', train=True, download=True)\n",
    "mnist_data = list(mnist_data)\n",
    "mnist_train = mnist_data[:1000]\n",
    "mnist_val = mnist_data[1000:2000]\n",
    "img_to_tensor = transforms.ToTensor()\n",
    "\n",
    "\n",
    "## Forward and Backward Pass\n",
    "# simplified training code to train `pigeon` on the \"small digit recognition\" task\n",
    "criterion = nn.BCEWithLogitsLoss()\n",
    "optimizer = optim.SGD(pigeon.parameters(), lr=0.005, momentum=0.9)  # * learning rate\n",
    "\n",
    "# for i in range(num_of_iterations): #$ number of training iterations\n",
    "for (image, label) in mnist_train:\n",
    "    # actual ground truth: is the digit less than 3?\n",
    "    actual = torch.tensor(label < 3).reshape([1, 1]).type(torch.FloatTensor)\n",
    "    # pigeon prediction\n",
    "    out = pigeon(img_to_tensor(image))  # step 1-2 #* make prediction\n",
    "    # update the parameters based on the loss\n",
    "    loss = criterion(out, actual)      # step 3\n",
    "    loss.backward()                    # step 4 (compute the updates for each parameter)  #* obtain gradients\n",
    "    optimizer.step()                   # step 4 (make the updates for each parameter) #* updates parameters\n",
    "    optimizer.zero_grad()  # * a clean up step for PyTorch\n",
    "\n",
    "\n",
    "## PyTorch: Training and Validation Error\n",
    "# computing the error and accuracy on the training set\n",
    "error = 0\n",
    "for (image, label) in mnist_train:\n",
    "    prob = torch.sigmoid(pigeon(img_to_tensor(image)))\n",
    "    if (prob < 0.5 and label < 3) or (prob >= 0.5 and label >= 3):  # * we set the threshold to 0.5, but it can be others values\n",
    "        error += 1\n",
    "print(\"Training Error Rate:\", error / len(mnist_train))\n",
    "print(\"Training Accuracy:\", 1 - error / len(mnist_train))\n",
    "\n",
    "\n",
    "# computing the error and accuracy on a test set\n",
    "error = 0\n",
    "for (image, label) in mnist_val:\n",
    "    prob = torch.sigmoid(pigeon(img_to_tensor(image)))\n",
    "    if (prob < 0.5 and label < 3) or (prob >= 0.5 and label >= 3):\n",
    "        error += 1\n",
    "print(\"Test Error Rate:\", error / len(mnist_val))\n",
    "print(\"Test Accuracy:\", 1 - error / len(mnist_val))"
   ]
  },
  {
   "cell_type": "markdown",
   "metadata": {
    "colab_type": "text",
    "id": "viYKlFupcgF3"
   },
   "source": [
    "### Part (a) -- 3 pt\n",
    "Comment on which of the above changes resulted in the best accuracy on training data? What accuracy were you able to achieve?"
   ]
  },
  {
   "cell_type": "code",
   "execution_count": 32,
   "metadata": {
    "colab": {},
    "colab_type": "code",
    "collapsed": true,
    "id": "GGtthiz1tDh5",
    "jupyter": {
     "outputs_hidden": true
    }
   },
   "outputs": [
    {
     "name": "stdout",
     "output_type": "stream",
     "text": [
      "Training Error Rate: 0.001\n",
      "Training Accuracy: 0.999\n",
      "Test Error Rate: 0.063\n",
      "Test Accuracy: 0.937\n"
     ]
    }
   ],
   "source": [
    "import torch\n",
    "import torch.nn as nn\n",
    "import torch.nn.functional as F\n",
    "from torchvision import datasets, transforms\n",
    "import matplotlib.pyplot as plt # for plotting\n",
    "import torch.optim as optim\n",
    "\n",
    "torch.manual_seed(1) # set the random seed\n",
    "\n",
    "# define a 2-layer artificial neural network\n",
    "class Pigeon(nn.Module):\n",
    "    def __init__(self):\n",
    "        super(Pigeon, self).__init__()\n",
    "        self.layer1 = nn.Linear(28 * 28, 30)\n",
    "        self.layer2 = nn.Linear(30, 1)\n",
    "    def forward(self, img):\n",
    "        flattened = img.view(-1, 28 * 28)\n",
    "        activation1 = self.layer1(flattened)\n",
    "        activation1 = F.relu(activation1)\n",
    "        activation2 = self.layer2(activation1)\n",
    "        return activation2\n",
    "\n",
    "pigeon = Pigeon()\n",
    "\n",
    "# load the data\n",
    "mnist_data = datasets.MNIST('data', train=True, download=True)\n",
    "mnist_data = list(mnist_data)\n",
    "mnist_train = mnist_data[:1000]\n",
    "mnist_val   = mnist_data[1000:2000]\n",
    "img_to_tensor = transforms.ToTensor()\n",
    "      \n",
    "    \n",
    "# simplified training code to train `pigeon` on the \"small digit recognition\" task\n",
    "criterion = nn.BCEWithLogitsLoss()\n",
    "optimizer = optim.SGD(pigeon.parameters(), lr=0.005, momentum=0.9)\n",
    "\n",
    "for i in range (6):\n",
    "  for (image, label) in mnist_train:\n",
    "      # actual ground truth: is the digit less than 3?\n",
    "      actual = torch.tensor(label < 3).reshape([1,1]).type(torch.FloatTensor)\n",
    "      # pigeon prediction\n",
    "      out = pigeon(img_to_tensor(image)) # step 1-2\n",
    "      # update the parameters based on the loss\n",
    "      loss = criterion(out, actual)      # step 3\n",
    "      loss.backward()                    # step 4 (compute the updates for each parameter)\n",
    "      optimizer.step()                   # step 4 (make the updates for each parameter)\n",
    "      optimizer.zero_grad()              # a clean up step for PyTorch\n",
    "\n",
    "# computing the error and accuracy on the training set\n",
    "error = 0\n",
    "for (image, label) in mnist_train:\n",
    "    prob = torch.sigmoid(pigeon(img_to_tensor(image)))\n",
    "    if (prob < 0.5 and label < 3) or (prob >= 0.5 and label >= 3):\n",
    "        error += 1\n",
    "print(\"Training Error Rate:\", error/len(mnist_train))\n",
    "print(\"Training Accuracy:\", 1 - error/len(mnist_train))\n",
    "\n",
    "\n",
    "# computing the error and accuracy on a test set\n",
    "error = 0\n",
    "for (image, label) in mnist_val:\n",
    "    prob = torch.sigmoid(pigeon(img_to_tensor(image)))\n",
    "    if (prob < 0.5 and label < 3) or (prob >= 0.5 and label >= 3):\n",
    "        error += 1\n",
    "print(\"Test Error Rate:\", error/len(mnist_val))\n",
    "print(\"Test Accuracy:\", 1 - error/len(mnist_val))"
   ]
  },
  {
   "cell_type": "code",
   "execution_count": 33,
   "metadata": {
    "colab": {},
    "colab_type": "code",
    "collapsed": true,
    "id": "FMgRXRqiqAEx",
    "jupyter": {
     "outputs_hidden": true
    }
   },
   "outputs": [],
   "source": [
    "# When number of training iterations is increasing (when greater than 6, it's 0.999), accuracy on training data is improving. However, this is overfitting.\n",
    "# When the number of hidden units increases, the accuracy of training data is also improving, but it is less obvious than the change in iteration times\n"
   ]
  },
  {
   "cell_type": "markdown",
   "metadata": {
    "colab_type": "text",
    "id": "pi6bWs7jcIem"
   },
   "source": [
    "### Part (b) -- 3 pt\n",
    "\n",
    "\n",
    "Comment on which of the above changes resulted in the best accuracy on testing data? What accuracy were you able to achieve?"
   ]
  },
  {
   "cell_type": "code",
   "execution_count": 34,
   "metadata": {
    "colab": {},
    "colab_type": "code",
    "collapsed": true,
    "id": "GGtthiz1tDh5",
    "jupyter": {
     "outputs_hidden": true
    }
   },
   "outputs": [
    {
     "name": "stdout",
     "output_type": "stream",
     "text": [
      "Training Error Rate: 0.001\n",
      "Training Accuracy: 0.999\n",
      "Test Error Rate: 0.058\n",
      "Test Accuracy: 0.942\n"
     ]
    }
   ],
   "source": [
    "import torch\n",
    "import torch.nn as nn\n",
    "import torch.nn.functional as F\n",
    "from torchvision import datasets, transforms\n",
    "import matplotlib.pyplot as plt # for plotting\n",
    "import torch.optim as optim\n",
    "\n",
    "torch.manual_seed(1) # set the random seed\n",
    "\n",
    "# define a 2-layer artificial neural network\n",
    "class Pigeon(nn.Module):\n",
    "    def __init__(self):\n",
    "        super(Pigeon, self).__init__()\n",
    "        self.layer1 = nn.Linear(28 * 28, 30)\n",
    "        self.layer2 = nn.Linear(30, 1)\n",
    "    def forward(self, img):\n",
    "        flattened = img.view(-1, 28 * 28)\n",
    "        activation1 = self.layer1(flattened)\n",
    "        activation1 = F.relu(activation1)\n",
    "        activation2 = self.layer2(activation1)\n",
    "        return activation2\n",
    "\n",
    "pigeon = Pigeon()\n",
    "\n",
    "# load the data\n",
    "mnist_data = datasets.MNIST('data', train=True, download=True)\n",
    "mnist_data = list(mnist_data)\n",
    "mnist_train = mnist_data[:1000]\n",
    "mnist_val   = mnist_data[1000:2000]\n",
    "img_to_tensor = transforms.ToTensor()\n",
    "      \n",
    "    \n",
    "# simplified training code to train `pigeon` on the \"small digit recognition\" task\n",
    "criterion = nn.BCEWithLogitsLoss()\n",
    "optimizer = optim.SGD(pigeon.parameters(), lr=0.005, momentum=0.9)\n",
    "\n",
    "for i in range (20):\n",
    "  for (image, label) in mnist_train:\n",
    "      # actual ground truth: is the digit less than 3?\n",
    "      actual = torch.tensor(label < 3).reshape([1,1]).type(torch.FloatTensor)\n",
    "      # pigeon prediction\n",
    "      out = pigeon(img_to_tensor(image)) # step 1-2\n",
    "      # update the parameters based on the loss\n",
    "      loss = criterion(out, actual)      # step 3\n",
    "      loss.backward()                    # step 4 (compute the updates for each parameter)\n",
    "      optimizer.step()                   # step 4 (make the updates for each parameter)\n",
    "      optimizer.zero_grad()              # a clean up step for PyTorch\n",
    "\n",
    "# computing the error and accuracy on the training set\n",
    "error = 0\n",
    "for (image, label) in mnist_train:\n",
    "    prob = torch.sigmoid(pigeon(img_to_tensor(image)))\n",
    "    if (prob < 0.5 and label < 3) or (prob >= 0.5 and label >= 3):\n",
    "        error += 1\n",
    "print(\"Training Error Rate:\", error/len(mnist_train))\n",
    "print(\"Training Accuracy:\", 1 - error/len(mnist_train))\n",
    "\n",
    "\n",
    "# computing the error and accuracy on a test set\n",
    "error = 0\n",
    "for (image, label) in mnist_val:\n",
    "    prob = torch.sigmoid(pigeon(img_to_tensor(image)))\n",
    "    if (prob < 0.5 and label < 3) or (prob >= 0.5 and label >= 3):\n",
    "        error += 1\n",
    "print(\"Test Error Rate:\", error/len(mnist_val))\n",
    "print(\"Test Accuracy:\", 1 - error/len(mnist_val))"
   ]
  },
  {
   "cell_type": "code",
   "execution_count": 35,
   "metadata": {
    "colab": {},
    "colab_type": "code",
    "collapsed": true,
    "id": "QtyIrtuNqAh0",
    "jupyter": {
     "outputs_hidden": true
    }
   },
   "outputs": [],
   "source": [
    "# When number of training iterations is increasing (when greater than 6, it's 0.999), accuracy on training data is improving. \n",
    "# When number of iteration is 20, the accuracy is at its best at 0.942.\n",
    "# When the number of hidden units increases, the accuracy of training data is also improving, but it is less obvious than the change in iteration times"
   ]
  },
  {
   "cell_type": "markdown",
   "metadata": {
    "colab_type": "text",
    "id": "j7W2k347wFqo"
   },
   "source": [
    "### Part (c) -- 4 pt\n",
    "Which model hyperparameters should you use, the ones from (a) or (b)?"
   ]
  },
  {
   "cell_type": "code",
   "execution_count": 36,
   "metadata": {
    "colab": {},
    "colab_type": "code",
    "collapsed": true,
    "id": "nuESNMuewOnT",
    "jupyter": {
     "outputs_hidden": true
    }
   },
   "outputs": [],
   "source": [
    "# From (b)\n",
    "# Because accuracy of testing data (unknown) is more important. If we simply add too much iterations, that would cause overfitting."
   ]
  }
 ],
 "metadata": {
  "colab": {
   "collapsed_sections": [],
   "name": "Lab 1 - PyTorch and ANNs.ipynb",
   "provenance": []
  },
  "kernelspec": {
   "display_name": "Python 3 (ipykernel)",
   "language": "python",
   "name": "python3"
  },
  "language_info": {
   "codemirror_mode": {
    "name": "ipython",
    "version": 3
   },
   "file_extension": ".py",
   "mimetype": "text/x-python",
   "name": "python",
   "nbconvert_exporter": "python",
   "pygments_lexer": "ipython3",
   "version": "3.9.7"
  }
 },
 "nbformat": 4,
 "nbformat_minor": 4
}
